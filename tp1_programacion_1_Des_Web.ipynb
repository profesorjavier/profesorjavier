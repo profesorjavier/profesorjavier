{
  "nbformat": 4,
  "nbformat_minor": 0,
  "metadata": {
    "colab": {
      "provenance": [],
      "include_colab_link": true
    },
    "kernelspec": {
      "name": "python3",
      "display_name": "Python 3"
    },
    "language_info": {
      "name": "python"
    }
  },
  "cells": [
    {
      "cell_type": "markdown",
      "metadata": {
        "id": "view-in-github",
        "colab_type": "text"
      },
      "source": [
        "<a href=\"https://colab.research.google.com/github/profesorjavier/profesorjavier/blob/main/tp1_programacion_1_Des_Web.ipynb\" target=\"_parent\"><img src=\"https://colab.research.google.com/assets/colab-badge.svg\" alt=\"Open In Colab\"/></a>"
      ]
    },
    {
      "cell_type": "markdown",
      "source": [
        "**Ejercicio 1**\n",
        "\n",
        "---\n",
        "\n"
      ],
      "metadata": {
        "id": "JsDfqUpx9j8m"
      }
    },
    {
      "cell_type": "markdown",
      "source": [
        "1. Mostrar por pantalla: “Hola Mundo, esto es Python!”."
      ],
      "metadata": {
        "id": "a3PTGb3iXHzd"
      }
    },
    {
      "cell_type": "markdown",
      "source": [
        "# Nueva sección"
      ],
      "metadata": {
        "id": "NVUJiGfKl0L7"
      }
    },
    {
      "cell_type": "code",
      "source": [
        "print(\"“Hola Mundo, esto es Python!”.\")"
      ],
      "metadata": {
        "colab": {
          "base_uri": "https://localhost:8080/"
        },
        "id": "IqkmcX2L9mxi",
        "outputId": "0ded98cf-1a56-4617-895a-86ad0a9db720"
      },
      "execution_count": null,
      "outputs": [
        {
          "output_type": "stream",
          "name": "stdout",
          "text": [
            "“Hola Mundo, esto es Python!”.\n"
          ]
        }
      ]
    },
    {
      "cell_type": "markdown",
      "source": [
        " **Ejercicio 2**\n",
        "\n",
        "---\n",
        "\n"
      ],
      "metadata": {
        "id": "HkVss0UO-Qp3"
      }
    },
    {
      "cell_type": "markdown",
      "source": [
        "2. Escriba un programa que solicite el nombre del usuario y luego muestre el mensaje de salida\n",
        "“Hola nombre”, donde nombre es el nombre que ingresó el usuario."
      ],
      "metadata": {
        "id": "6YRfgb88XTRc"
      }
    },
    {
      "cell_type": "code",
      "source": [
        "while True:\n",
        "    nombre=input('Por favor ingresa tu nombre: ')\n",
        "    if(nombre== ''):\n",
        "        print('¡Debe ingresar un nombre')\n",
        "    else:\n",
        "        print('el nombre ingresado es: ',nombre)\n",
        "        break\n"
      ],
      "metadata": {
        "colab": {
          "base_uri": "https://localhost:8080/"
        },
        "id": "lms8IlgF-SS2",
        "outputId": "ba9f709d-4114-4dfd-cfd1-7acecd8123fa"
      },
      "execution_count": null,
      "outputs": [
        {
          "output_type": "stream",
          "name": "stdout",
          "text": [
            "Por favor ingresa tu nombre: joaqu\n",
            "el nombre ingresado es:  joaqu\n"
          ]
        }
      ]
    },
    {
      "cell_type": "markdown",
      "source": [
        "**Ejercicio 3**"
      ],
      "metadata": {
        "id": "qG6ftr55-uRO"
      }
    },
    {
      "cell_type": "markdown",
      "source": [
        "3. Solicite al usuario su nombre y luego solicite su apellido y por último muestre el mensaje de\n",
        "salida “Hola nombre apellido”."
      ],
      "metadata": {
        "id": "ReVjxoD5XXsg"
      }
    },
    {
      "cell_type": "code",
      "source": [
        "nombre=\"\"\n",
        "apellido=\"\"\n",
        "while True:\n",
        "    if nombre==\"\" :\n",
        "        nombre=input('Por favor ingresa tu nombre: ')\n",
        "    if apellido==\"\":\n",
        "        apellido=input('Por favor ingresa tu apellido: ')\n",
        "\n",
        "    if nombre== \"\" or apellido==\"\":\n",
        "        print('¡Debe ingresar un nombre y un apellido')\n",
        "    elif nombre==\"\":\n",
        "        print('debe ingresar un nombre')\n",
        "    elif apellido==\"\":\n",
        "        print('debe ingresar un apellido')\n",
        "    else:\n",
        "        print('el nombre y apellido ingresado son: ',nombre, apellido)\n",
        "        break"
      ],
      "metadata": {
        "colab": {
          "base_uri": "https://localhost:8080/"
        },
        "id": "S24fxFAk-xXS",
        "outputId": "9164e908-6b96-41c6-ef98-01d26c290b21"
      },
      "execution_count": null,
      "outputs": [
        {
          "output_type": "stream",
          "name": "stdout",
          "text": [
            "Por favor ingresa tu nombre: joqui\n",
            "Por favor ingresa tu apellido: \n",
            "¡Debe ingresar un nombre y un apellido\n",
            "Por favor ingresa tu apellido: kiloaza\n",
            "el nombre y apellido ingresado son:  joqui kiloaza\n"
          ]
        }
      ]
    },
    {
      "cell_type": "markdown",
      "source": [
        "**Ejercicio 4**"
      ],
      "metadata": {
        "id": "E7bAiPv_-31T"
      }
    },
    {
      "cell_type": "markdown",
      "source": [
        "4. Pida al usuario que ingrese 2 números para luego sumarlos y mostrar en pantalla: “La\n",
        "respuesta es XX”."
      ],
      "metadata": {
        "id": "76dVkE6NXbMG"
      }
    },
    {
      "cell_type": "code",
      "source": [
        "n1=\"\"\n",
        "n2=\"\"\n",
        "while True:\n",
        "    if n1==\"\" :\n",
        "        n1=input('Por favor ingresa el primer numero: ')\n",
        "    if n2==\"\":\n",
        "        n2=input('Por favor ingresa el segundo numero: ')\n",
        "\n",
        "    if n1== \"\" or n2==\"\" :\n",
        "        print('¡Debe ingresar dos numeros')\n",
        "    elif n1==\"\":\n",
        "        print('debe ingresar el primer numero')\n",
        "    elif n2==\"\":\n",
        "        print('debe ingresar el segundo numero')\n",
        "    else:\n",
        "        n1=float(n1)\n",
        "        n2=float(n2)\n",
        "        print('la suma de los numeros' ,n1, ' y ',n2, 'es: ',float(n1+n2)   )\n",
        "        break\n"
      ],
      "metadata": {
        "id": "U6-iOgD_-8c7"
      },
      "execution_count": null,
      "outputs": []
    },
    {
      "cell_type": "markdown",
      "source": [
        "**Ejercicio 5**\n",
        "5. Escriba un programa que pida al usuario que ingrese 3 números. Sume los dos primeros y\n",
        "luego multiplique este total por el tercero. Mostrar la respuesta en pantalla de la siguiente\n",
        "forma: “La respuesta es XX”."
      ],
      "metadata": {
        "id": "A7T6nrxzZKQP"
      }
    },
    {
      "cell_type": "code",
      "source": [
        "n1 = \"\"\n",
        "n2 = \"\"\n",
        "n3 = \"\"\n",
        "while True:\n",
        "    if n1 == \"\":\n",
        "        n1 = input('Por favor ingresa el primer numero: ')\n",
        "    if n2 == \"\":\n",
        "        n2 = input('Por favor ingresa el segundo numero: ')\n",
        "    if n3 == \"\":\n",
        "        n3 = input('Por favor ingresa el tercer numero: ')\n",
        "\n",
        "    if n1 == \"\" or n2 == \"\" or n3 == \"\":\n",
        "        print('¡Debe ingresar tres numeros')\n",
        "    elif n1 == \"\":\n",
        "        print('debe ingresar el primer numero')\n",
        "    elif n2 == \"\":\n",
        "        print('debe ingresar el segundo numero')\n",
        "    elif n3 == \"\":\n",
        "        print('debe ingresar el tercer numero')\n",
        "    else:\n",
        "        n1 = float(n1)\n",
        "        n2 = float(n2)\n",
        "        n3 = float(n3)\n",
        "        print('la respuesta es: ', float((n1 + n2) * n3))\n",
        "        break\n"
      ],
      "metadata": {
        "colab": {
          "base_uri": "https://localhost:8080/"
        },
        "id": "GXvnRIjMG6lo",
        "outputId": "6d1d2a14-d7af-42d4-e1e7-8d2f4659fc4f"
      },
      "execution_count": null,
      "outputs": [
        {
          "output_type": "stream",
          "name": "stdout",
          "text": [
            "Por favor ingresa el primer numero: 45\n",
            "Por favor ingresa el segundo numero: 55\n",
            "Por favor ingresa el tercer numero: \n",
            "¡Debe ingresar tres numeros\n",
            "Por favor ingresa el tercer numero: \n",
            "¡Debe ingresar tres numeros\n",
            "Por favor ingresa el tercer numero: 67\n",
            "la respuesta es:  6700.0\n"
          ]
        }
      ]
    },
    {
      "cell_type": "markdown",
      "source": [
        "**Ejercicio 6**\n",
        "Programe una aplicación de consola que pregunte el precio total de la cuenta, luego\n",
        "pregunte cuántos comensales hay. A continuación deberá dividir la cuenta total por el\n",
        "número de comensales y mostrar cuánto debe pagar cada persona."
      ],
      "metadata": {
        "id": "tSStpsInZOIt"
      }
    },
    {
      "cell_type": "code",
      "source": [
        "total_cuenta = \"\"\n",
        "num_comensales = \"\"\n",
        "while True:\n",
        "    if total_cuenta == \"\":\n",
        "        total_cuenta = input('Por favor ingresa el precio total de la cuenta: ')\n",
        "    if num_comensales == \"\":\n",
        "        num_comensales = input('Por favor ingresa el numero de comensales: ')\n",
        "\n",
        "    if total_cuenta == \"\" or num_comensales == \"\":\n",
        "        print('¡Debe ingresar el precio total de la cuenta y el numero de comensales')\n",
        "    elif total_cuenta == \"\":\n",
        "        print('debe ingresar el precio total de la cuenta')\n",
        "    elif num_comensales == \"\":\n",
        "        print('debe ingresar el numero de comensales')\n",
        "    else:\n",
        "        total_cuenta = float(total_cuenta)\n",
        "        num_comensales = float(num_comensales)\n",
        "        print('cada persona debe pagar: ', float(total_cuenta / num_comensales))\n",
        "        break\n"
      ],
      "metadata": {
        "id": "Kmx_TKXPHZ61"
      },
      "execution_count": null,
      "outputs": []
    },
    {
      "cell_type": "markdown",
      "source": [
        "**Ejercicio 7**\n",
        "7. Pida al usuario un número x de días y luego mostrar por pantalla cuántas horas, minutos y\n",
        "segundos son esos números de días."
      ],
      "metadata": {
        "id": "8V0LlV0AZTVV"
      }
    },
    {
      "cell_type": "code",
      "source": [
        "dias = \"\"\n",
        "while True:\n",
        "    if dias == \"\":\n",
        "        dias = input('Por favor ingresa el numero de dias: ')\n",
        "\n",
        "    if dias == \"\":\n",
        "        print('¡Debe ingresar el numero de dias')\n",
        "    else:\n",
        "        dias = float(dias)\n",
        "        horas = dias * 24\n",
        "        minutos = horas * 60\n",
        "        segundos = minutos * 60\n",
        "        print('Los ',dias,' dias son: ',horas,' horas, ',minutos,' minutos y ',segundos,' segundos')\n",
        "        break\n"
      ],
      "metadata": {
        "id": "BqU2G0CkH1V7"
      },
      "execution_count": null,
      "outputs": []
    },
    {
      "cell_type": "markdown",
      "source": [
        "**Ejercicio 8**\n",
        "8. Escriba un programa que permita al usuario ingresar la base y altura de un triángulo para\n",
        "luego imprimir por pantalla la superficie total."
      ],
      "metadata": {
        "id": "dAOSAb2NZYac"
      }
    },
    {
      "cell_type": "code",
      "source": [
        "\n",
        "base = \"\"\n",
        "altura = \"\"\n",
        "while True:\n",
        "    if base == \"\":\n",
        "        base = input('Por favor ingresa la base del triangulo: ')\n",
        "    if altura == \"\":\n",
        "        altura = input('Por favor ingresa la altura del triangulo: ')\n",
        "\n",
        "    if base == \"\" or altura == \"\":\n",
        "        print('¡Debe ingresar la base y la altura del triangulo')\n",
        "    elif base == \"\":\n",
        "        print('debe ingresar la base del triangulo')\n",
        "    elif altura == \"\":\n",
        "        print('debe ingresar la altura del triangulo')\n",
        "    else:\n",
        "        base = float(base)\n",
        "        altura = float(altura)\n",
        "        superficie = (base * altura) / 2\n",
        "        print('La superficie del triangulo es: ', superficie)\n",
        "        break\n"
      ],
      "metadata": {
        "id": "hEg5jXKJIfKm"
      },
      "execution_count": null,
      "outputs": []
    },
    {
      "cell_type": "markdown",
      "source": [
        "**Ejercicio 9**\n",
        "9. Pida al usuario que ingrese un texto para luego imprimirlo al revés. Ej: HOLA -> ALOH."
      ],
      "metadata": {
        "id": "Swr2zg9hZmAS"
      }
    },
    {
      "cell_type": "code",
      "source": [
        "# prompt: Pida al usuario que ingrese un texto para luego imprimirlo al revés. Ej: HOLA -> ALOH.\n",
        "\n",
        "texto = input(\"Ingrese un texto: \")\n",
        "\n",
        "texto_invertido = texto[::-1]\n",
        "\n",
        "print(\"El texto invertido es:\", texto_invertido)\n"
      ],
      "metadata": {
        "id": "1WA_aTmfImBG"
      },
      "execution_count": null,
      "outputs": []
    },
    {
      "cell_type": "markdown",
      "source": [
        "**Ejercicio 10**\n",
        "10. Escriba un programa que indique si un texto es palíndromo, es decir, se escribe igual al\n",
        "derecho que al revés. Por ejemplo: rayar, kayak, somos."
      ],
      "metadata": {
        "id": "74r2vNK-Zpbc"
      }
    },
    {
      "cell_type": "code",
      "source": [
        "# prompt: Escriba un programa que indique si un texto es palíndromo, es decir, se escribe igual al derecho que al revés. Por ejemplo: rayar, kayak, somos.\n",
        "\n",
        "texto = input(\"Ingrese un texto: \")\n",
        "\n",
        "texto_invertido = texto[::-1]\n",
        "\n",
        "if texto == texto_invertido:\n",
        "    print(\"El texto es palíndromo.\")\n",
        "else:\n",
        "    print(\"El texto no es palíndromo.\")\n"
      ],
      "metadata": {
        "id": "N3o-KCZxIqkF"
      },
      "execution_count": null,
      "outputs": []
    },
    {
      "cell_type": "markdown",
      "source": [
        "**Ejercicio 11**\n",
        "11. Programe una aplicación de consola que muestre los primeros 5 caracteres de una cadena\n",
        "de texto ingresada por el usuario."
      ],
      "metadata": {
        "id": "wO3w9AllZvEx"
      }
    },
    {
      "cell_type": "code",
      "source": [
        "\n",
        "texto = input(\"Ingrese un texto: \")\n",
        "\n",
        "print(\"Los primeros 5 caracteres del texto son:\", texto[:5])\n"
      ],
      "metadata": {
        "id": "-I9xjXJ6IwV1"
      },
      "execution_count": null,
      "outputs": []
    },
    {
      "cell_type": "markdown",
      "source": [
        "**Ejercicio 12**\n",
        "12. Pedir al usuario que ingrese una fecha en formato dd/mm/aaaa e imprimir en pantalla el\n",
        "día, mes y año. Ej:\n",
        "Usuario ingresa: 17/05/1985\n",
        "Programa imprime: Día: 17, Mes: 05 y Año: 1985"
      ],
      "metadata": {
        "id": "uj4-cJ4FZ0O3"
      }
    },
    {
      "cell_type": "code",
      "source": [
        "# prompt: Pedir al usuario que ingrese una fecha en formato dd/mm/aaaa e imprimir en pantalla el día, mes y año. Ej: Usuario ingresa: 17/05/1985 Programa imprime: Día: 17, Mes: 05 y Año: 1985\n",
        "\n",
        "fecha = input(\"Ingrese una fecha en formato dd/mm/aaaa: \")\n",
        "\n",
        "dia, mes, año = fecha.split(\"/\")\n",
        "\n",
        "print(\"Día:\", dia)\n",
        "print(\"Mes:\", mes)\n",
        "print(\"Año:\", año)\n"
      ],
      "metadata": {
        "id": "6xDwv9yvI3l-"
      },
      "execution_count": null,
      "outputs": []
    },
    {
      "cell_type": "markdown",
      "source": [
        "**Ejercicio 13**\n",
        "13. Programe una aplicación de consola que solicite al usuario su nombre, después su apellido y\n",
        "a continuación su año de nacimiento. Con esos datos deberá generar una sugerencia de\n",
        "usuario y contraseña. Por ejemplo: nombre: Martín, apellido: Francisconi, Año nacimiento:\n",
        "1985 -> Usuario: mfrancisconi, Contraseña: mf.1985."
      ],
      "metadata": {
        "id": "PUWpx6NlZ4bw"
      }
    },
    {
      "cell_type": "code",
      "source": [
        "\n",
        "nombre = input(\"Ingrese su nombre: \")\n",
        "apellido = input(\"Ingrese su apellido: \")\n",
        "año_nacimiento = input(\"Ingrese su año de nacimiento: \")\n",
        "\n",
        "usuario = nombre[0].lower() + apellido.lower()\n",
        "contraseña = nombre[0].lower() + \".\" + año_nacimiento\n",
        "\n",
        "print(\"Usuario sugerido:\", usuario)\n",
        "print(\"Contraseña sugerida:\", contraseña)\n"
      ],
      "metadata": {
        "id": "Z8dujRjhI_1r",
        "outputId": "a4939ebb-c1dc-4802-fb32-4f40d509ec78",
        "colab": {
          "base_uri": "https://localhost:8080/"
        }
      },
      "execution_count": null,
      "outputs": [
        {
          "output_type": "stream",
          "name": "stdout",
          "text": [
            "Ingrese su nombre: javier\n",
            "Ingrese su apellido: acosta\n",
            "Ingrese su año de nacimiento: 1990\n",
            "Usuario sugerido: jacosta\n",
            "Contraseña sugerida: j.1990\n"
          ]
        }
      ]
    }
  ]
}